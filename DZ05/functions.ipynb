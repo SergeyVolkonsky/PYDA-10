{
 "cells": [
  {
   "cell_type": "markdown",
   "metadata": {},
   "source": [
    "Вы работаете секретарем и вам постоянно приходят различные документы. Вы должны быть очень внимательны, чтобы не потерять ни один документ. Каталог документов хранится в следующем виде:"
   ]
  },
  {
   "cell_type": "code",
   "execution_count": 37,
   "metadata": {},
   "outputs": [],
   "source": [
    "documents = [\n",
    "    {'type': 'passport', 'number': '2207 876234', 'name': 'Василий Гупкин'},\n",
    "    {'type': 'invoice', 'number': '11-2', 'name': 'Геннадий Покемонов'},\n",
    "    {'type': 'insurance', 'number': '10006', 'name': 'Аристарх Павлов'}\n",
    "]"
   ]
  },
  {
   "cell_type": "markdown",
   "metadata": {},
   "source": [
    "Перечень полок, на которых находятся документы хранится в следующем виде:"
   ]
  },
  {
   "cell_type": "code",
   "execution_count": 38,
   "metadata": {},
   "outputs": [],
   "source": [
    "directories = {\n",
    "    '1': ['2207 876234', '11-2'],\n",
    "    '2': ['10006'],\n",
    "    '3': []\n",
    "}"
   ]
  },
  {
   "cell_type": "markdown",
   "metadata": {},
   "source": [
    "Необходимо реализовать пользовательские команды (внимание! это не название функций, которые должны быть выразительными, а команды, которые вводит пользователь, чтобы получить необходимый результат):\n",
    "  \n",
    "- p – people – команда, которая спросит номер документа и выведет имя человека, которому он принадлежит;  \n",
    "- s – shelf – команда, которая спросит номер документа и выведет номер полки, на которой он находится  \n",
    "*Правильно обработайте ситуации, когда пользователь будет вводить несуществующий документ*.\n",
    "- l – list – команда, которая выведет список всех документов в формате   \n",
    "**passport \"2207 876234\" \"Василий Гупкин\"**  \n",
    "- as – add shelf – команда, которая спросит номер новой полки и добавит ее в перечень. *Предусмотрите случай, когда пользователь добавляет полку, которая уже существует*.\n",
    "- d – delete – команда, которая спросит номер документа и удалит его из каталога и из перечня полок. *Предусмотрите сценарий, когда пользователь вводит несуществующий документ*;  \n",
    "- m – move – команда, которая спросит номер документа и целевую полку и переместит его с текущей полки на целевую. *Корректно обработайте кейсы, когда пользователь пытается переместить несуществующий документ или переместить документ на несуществующую полку*;  \n",
    "- a – add – команда, которая добавит новый документ в каталог и в перечень полок, спросив его номер, тип, имя владельца и номер полки, на котором он будет храниться. *Корректно обработайте ситуацию, когда пользователь будет пытаться добавить документ на несуществующую полку*."
   ]
  },
  {
   "cell_type": "code",
   "execution_count": 41,
   "metadata": {},
   "outputs": [
    {
     "name": "stdout",
     "output_type": "stream",
     "text": [
      "Введите командочку (для выхода из цикла - q, очистить окошко - c): й\n",
      "Нет такой команды\n",
      "Введите командочку (для выхода из цикла - q, очистить окошко - c): q\n"
     ]
    }
   ],
   "source": [
    "# примечание\n",
    "# можно было бы создать еще несколько подфункций (добавление, удаление из разлиных списков),\n",
    "# но я не любитель плодить их, если они состоят из 1-2 строк\n",
    "# с процедуорами и функциями у меня нет особых проблем в других языках\n",
    "\n",
    "\n",
    "# p, people\n",
    "def find_doc_documents(find_what, in_list):\n",
    "    \"\"\"\n",
    "    Ищет документ в списке формата documents\n",
    "    Аргументы: find_what - что ищем, in_list - список в формате documents\n",
    "    Возвращает: порядковый номер списка/None\n",
    "    \n",
    "    \"\"\"\n",
    "    if find_what != \"\":\n",
    "        for xi in range(len(in_list)):\n",
    "            if in_list[xi]['number'] == find_what:\n",
    "                return xi\n",
    "    return None\n",
    "\n",
    "# s, shelf\n",
    "def find_doc_shelf(find_what, in_list):\n",
    "    \"\"\"\n",
    "    Ищет документ в списке формата directories\n",
    "    Аргументы: find_what - что ищем, in_list - список в формате directories\n",
    "    Возвращает: key (номер), найденой полки / None\n",
    "    \n",
    "    \"\"\"\n",
    "    if find_what != \"\":\n",
    "        for list_key, list_values in in_list.items():\n",
    "            if len([xcell for xcell in list(list_values) if xcell == find_what]) > 0:\n",
    "                return list_key\n",
    "    return None\n",
    "\n",
    "# можно было обойтись без этой функции, но уже сделал\n",
    "# l, list\n",
    "def show_list(in_list):\n",
    "    \"\"\"\n",
    "    Показывает список всех документов/полок.\n",
    "    Аргументы: in_list - список документов в формате documents\n",
    "    \"\"\"\n",
    "    print('Список всех документов:')\n",
    "    for list_row in in_list:\n",
    "        print(f'{list_row[\"type\"]} \"{list_row[\"number\"]}\" \"{list_row[\"name\"]}\"')\n",
    "    print('Полки (для отладочных целей):', directories)\n",
    "    return None\n",
    "\n",
    "def main():\n",
    "    # обожаю бесконечные циклы    \n",
    "    from IPython.display import clear_output\n",
    "    while True:\n",
    "        user_input = input('Введите командочку (для выхода из цикла - q, очистить окошко - c): ')\n",
    "        if user_input in ['c','clr']:\n",
    "            clear_output()\n",
    "        elif user_input in ['p', 'people']:            \n",
    "            rslt = find_doc_documents(input('Введите номер документа: '), documents)\n",
    "            if rslt is None:\n",
    "                print('Такой номер документа не найден')\n",
    "            else:\n",
    "                print(f'Документ принадлежит: {documents[rslt][\"name\"]}')\n",
    "        elif user_input in ['s', 'shelf']:\n",
    "            rslt = find_doc_shelf(input('Введите номер документа: '), directories)\n",
    "            if rslt is None:\n",
    "                print('Такой номер документа не найден')\n",
    "            else:\n",
    "                print(f'Полка номер: {rslt}')\n",
    "        elif user_input in ['l', 'list']:\n",
    "            show_list(documents)\n",
    "        elif user_input in ['as', 'add shelf']:\n",
    "            user_input2 = input('Введите номер полки для добавления: ')\n",
    "            if user_input2 in directories:\n",
    "                print('Такая полка уже есть')\n",
    "            else:\n",
    "                directories[user_input2]=[]\n",
    "                print('Полка добавлена')\n",
    "        elif user_input in ['d', 'delete']:\n",
    "            user_input2 = str(input('Введите номер документа для удаления: '))\n",
    "            if not find_doc_documents(user_input2, documents) is None:\n",
    "                del(documents[find_doc_documents(user_input2, documents)])\n",
    "                print('Удалено из документов')\n",
    "            else:\n",
    "                print('Не найдено в документах')\n",
    "            if not find_doc_shelf(user_input2, directories) is None:\n",
    "                directories[find_doc_shelf(user_input2, directories)].remove(user_input2)\n",
    "                print('Удалено с полки')\n",
    "            else:\n",
    "                print('Не найдено на полке')\n",
    "        elif user_input in ['m', 'move']:\n",
    "            user_input2 = str(input('Введите номер документа для перемещения: '))\n",
    "            if find_doc_documents(user_input2, documents) is None:\n",
    "                print('Не найден такой документ!')\n",
    "                continue\n",
    "            else:\n",
    "                user_input3 = str(input('Введите номер полки для перемещения: '))                        \n",
    "                if not user_input3 in directories:\n",
    "                    print('Такой полки нет, сначала создайте её')\n",
    "                    continue\n",
    "                elif find_doc_shelf(user_input2, directories) == user_input3:\n",
    "                    print('Каким-то чудом документ уже находится на этой полке')\n",
    "                    continue\n",
    "                else:\n",
    "                    directories[find_doc_shelf(user_input2, directories)].remove(user_input2)\n",
    "                    directories[user_input3].append(user_input2)\n",
    "                    print('Ok')\n",
    "        elif user_input in ['a', 'add']:\n",
    "            print('Сейчас вам придётся ввести номер документа, тип, автора и номер полки для добавления: ')\n",
    "            user_input_num = str(input('Введите номер документа: '))\n",
    "            if not find_doc_documents(user_input_num, documents) is None:\n",
    "                print('Такой документ уже есть!')\n",
    "                continue\n",
    "            user_input_type = str(input('Введите тип документа: '))\n",
    "            user_input_auth = str(input('Введите аффтора: '))\n",
    "            user_input_polka = str(input('Номер полки: '))            \n",
    "            if not user_input_polka in directories:\n",
    "                print('Такой полки нет, сначала создайте её')\n",
    "                continue\n",
    "#             дошли до сюда, значит всё ок\n",
    "            documents.append({'type': user_input_type, 'number': user_input_num, 'name': user_input_auth})\n",
    "            directories[user_input_polka].append(user_input_num)\n",
    "        elif user_input in ['q', 'quite']:\n",
    "            break\n",
    "        else:\n",
    "            print('Нет такой команды')\n",
    "\n",
    "main()"
   ]
  },
  {
   "cell_type": "code",
   "execution_count": null,
   "metadata": {},
   "outputs": [],
   "source": []
  },
  {
   "cell_type": "code",
   "execution_count": null,
   "metadata": {},
   "outputs": [],
   "source": []
  },
  {
   "cell_type": "markdown",
   "metadata": {},
   "source": [
    "p – people – команда, которая спросит номер документа и выведет имя человека, которому он принадлежит;\n",
    "s – shelf – команда, которая спросит номер документа и выведет номер полки, на которой он находится\n",
    "Правильно обработайте ситуации, когда пользователь будет вводить несуществующий документ.\n",
    "l – list – команда, которая выведет список всех документов в формате\n",
    "passport \"2207 876234\" \"Василий Гупкин\"\n",
    "as – add shelf – команда, которая спросит номер новой полки и добавит ее в перечень. Предусмотрите случай, когда пользователь добавляет полку, которая уже существует.\n",
    "d – delete – команда, которая спросит номер документа и удалит его из каталога и из перечня полок. Предусмотрите сценарий, когда пользователь вводит несуществующий документ;\n",
    "m – move – команда, которая спросит номер документа и целевую полку и переместит его с текущей полки на целевую. Корректно обработайте кейсы, когда пользователь пытается переместить несуществующий документ или переместить документ на несуществующую полку;\n",
    "a – add – команда, которая добавит новый документ в каталог и в перечень полок, спросив его номер, тип, имя владельца и номер полки, на котором он будет храниться. Корректно обработайте ситуацию, когда пользователь будет пытаться добавить документ на несуществующую полку."
   ]
  }
 ],
 "metadata": {
  "kernelspec": {
   "display_name": "Python 3",
   "language": "python",
   "name": "python3"
  },
  "language_info": {
   "codemirror_mode": {
    "name": "ipython",
    "version": 3
   },
   "file_extension": ".py",
   "mimetype": "text/x-python",
   "name": "python",
   "nbconvert_exporter": "python",
   "pygments_lexer": "ipython3",
   "version": "3.7.6"
  }
 },
 "nbformat": 4,
 "nbformat_minor": 2
}
