{
 "cells": [
  {
   "cell_type": "markdown",
   "metadata": {},
   "source": [
    "**Задача 1.**\n",
    "Смоделировать игру против лотерейного автомата типа “777”. Игрок платит 1 руб., после чего выпадает случайное целое число, равномерно распределенное от 0 до 999. При некоторых значениях числа игрок получает выигрыш (см. справа)\n",
    "\n",
    "Выгодна ли игра игроку?\n",
    "\n",
    "Сколько в среднем приобретает\n",
    "или теряет игрок за одну игру?\n",
    "\n",
    "* 777: 200 руб.\n",
    "* 999: 100 руб.\n",
    "* 555: 50 руб.\n",
    "* 333: 15 руб.\n",
    "* 111: 10 руб.\n",
    "* *77: 5 руб.\n",
    "* **7: 3 руб.\n",
    "* *00: 2 руб.\n",
    "* **0: 1 руб.\n",
    "\n",
    "*– любая цифра\n",
    "\n",
    "Дополнительное задание повышенной сложности. Теоретически рассчитать средний выигрыш (проигрыш) и сравнить с результатами моделирования"
   ]
  },
  {
   "cell_type": "code",
   "execution_count": 1,
   "metadata": {},
   "outputs": [
    {
     "name": "stdout",
     "output_type": "stream",
     "text": [
      "Теоретический выигрыш на потраченный рубль: 0.8000000000000004\n",
      "Практический выигрыш при 100000 тестах: 0.8029\n"
     ]
    }
   ],
   "source": [
    "import numpy as np\n",
    "import re\n",
    "prize_list = [['777', 200], ['999', 100], ['555', 50], ['333', 15], ['111', 10], ['.77', 5], ['..7', 3], ['.00', 2], ['..0', 1]]\n",
    "\n",
    "# функция расчета приза от выпавшего номера\n",
    "# исходил из того, что 0 - попадает под .00, т.е. приз 2 рубля, а не 1\n",
    "def get_prize(num):\n",
    "    for el in prize_list:\n",
    "        if re.match(rf\"{el[0]}\", str(num).rjust(3,'0')):\n",
    "            return el[1]\n",
    "    return 0\n",
    "\n",
    "# посчитаем среднее теортическое - 1000 значений с равной вероятностью, но разным весом(призом)\n",
    "mean_teor = 0\n",
    "for num in range(1000):\n",
    "    mean_teor += get_prize(num)/1000\n",
    "\n",
    "# посчитаем среднее практически\n",
    "num_tests = 100000\n",
    "mean_pr = 0\n",
    "for num in np.random.randint(0, 1000, num_tests):\n",
    "    mean_pr += get_prize(num)\n",
    "mean_pr = mean_pr/num_tests\n",
    "\n",
    "print(f'Теоретический выигрыш на потраченный рубль: {mean_teor}\\nПрактический выигрыш при {num_tests} тестах: {mean_pr}')\n"
   ]
  },
  {
   "cell_type": "markdown",
   "metadata": {},
   "source": [
    "**Вывод:** игра не выгодна (мы теряем ~20 копеек на потраченный рубль).\n",
    "Теоретические рассчеты в целом совпадают с результатами моделирования."
   ]
  },
  {
   "cell_type": "code",
   "execution_count": null,
   "metadata": {},
   "outputs": [],
   "source": []
  }
 ],
 "metadata": {
  "kernelspec": {
   "display_name": "Python 3",
   "language": "python",
   "name": "python3"
  },
  "language_info": {
   "codemirror_mode": {
    "name": "ipython",
    "version": 3
   },
   "file_extension": ".py",
   "mimetype": "text/x-python",
   "name": "python",
   "nbconvert_exporter": "python",
   "pygments_lexer": "ipython3",
   "version": "3.7.6"
  }
 },
 "nbformat": 4,
 "nbformat_minor": 4
}
