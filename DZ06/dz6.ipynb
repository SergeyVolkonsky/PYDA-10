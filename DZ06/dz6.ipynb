{
 "cells": [
  {
   "cell_type": "markdown",
   "metadata": {},
   "source": [
    "# Домашнее задание\n",
    "1. Переведите содержимое файла purchase_log.txt в словарь purchases вида:\n",
    "```python\n",
    "{'1840e0b9d4': 'Продукты', ...}\n",
    "```\n",
    "\n",
    "2. Для каждого user_id в файле visit_log.csv определите третий столбец с категорией покупки (если покупка была, сам файл visit_log.csv изменять не надо). Запишите в файл funnel.csv визиты из файла visit_log.csv, в которых были покупки с указанием категории.\n",
    "\n",
    "Учтите условия на данные:\n",
    "- содержимое purchase_log.txt помещается в оперативную память компьютера\n",
    "- содержимое visit_log.csv - нет; используйте только построчную обработку этого файла"
   ]
  },
  {
   "cell_type": "code",
   "execution_count": 20,
   "metadata": {},
   "outputs": [],
   "source": [
    "import json\n",
    "\n",
    "f_prch = open('purchase_log.txt', 'r', encoding='UTF-8')\n",
    "purchases = {}\n",
    "for line in f_prch:\n",
    "    purchases[json.loads(line)['user_id']] = json.loads(line)['category']\n",
    "f_prch.close\n",
    "\n",
    "with open('visit_log.csv', 'r', encoding='UTF-8') as f_visit:\n",
    "    with open('funnel.csv', 'w') as f_funnel:\n",
    "        for line in f_visit:\n",
    "            if line.strip().split(',')[0] in purchases:\n",
    "                f_funnel.write(line.strip()+','+purchases[line.strip().split(',')[0]]+'\\n')"
   ]
  }
 ],
 "metadata": {
  "kernelspec": {
   "display_name": "Python 3",
   "language": "python",
   "name": "python3"
  },
  "language_info": {
   "codemirror_mode": {
    "name": "ipython",
    "version": 3
   },
   "file_extension": ".py",
   "mimetype": "text/x-python",
   "name": "python",
   "nbconvert_exporter": "python",
   "pygments_lexer": "ipython3",
   "version": "3.7.6"
  }
 },
 "nbformat": 4,
 "nbformat_minor": 2
}
