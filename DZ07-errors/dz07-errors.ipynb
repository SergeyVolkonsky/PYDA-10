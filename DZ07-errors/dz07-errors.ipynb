{
 "cells": [
  {
   "cell_type": "markdown",
   "metadata": {},
   "source": [
    "# Задание 1\n",
    "Печатные газеты использовали свой формат дат для каждого выпуска. Для каждой газеты из списка напишите формат указанной даты для перевода в объект datetime:\n",
    "1. The Moscow Times - Wednesday, October 2, 2002\n",
    "2. The Guardian - Friday, 11.10.13\n",
    "3. Daily News - Thursday, 18 August 1977"
   ]
  },
  {
   "cell_type": "code",
   "execution_count": 40,
   "metadata": {},
   "outputs": [
    {
     "name": "stdout",
     "output_type": "stream",
     "text": [
      "Введите номер газеты для конвертации даты (1-3):f\n"
     ]
    },
    {
     "ename": "SystemExit",
     "evalue": "Введите число!",
     "output_type": "error",
     "traceback": [
      "An exception has occurred, use %tb to see the full traceback.\n",
      "\u001b[1;31mSystemExit\u001b[0m\u001b[1;31m:\u001b[0m Введите число!\n"
     ]
    }
   ],
   "source": [
    "import sys\n",
    "from datetime import datetime\n",
    "xdatestr = 'Thursday, 18 August 1977'\n",
    "xok=1\n",
    "\n",
    "# можете подсказать, почему, если  sys.exit вставить в except выдается многочисленный traceback ошибок?\n",
    "# выдает саму ошибку int(x) плюс каскад из дополнительных?\n",
    "# пришлось делать такую заглушку с бинарной переменной\n",
    "try:\n",
    "    xinp = int(input('Введите номер газеты для конвертации даты (1-3):'))\n",
    "except:\n",
    "    xok=0\n",
    "if not xok: sys.exit('Введите число!')\n",
    "\n",
    "if xinp == 1:\n",
    "    try:\n",
    "        xdate = datetime.strptime(xdatestr, '%A, %B %d, %Y')\n",
    "    except:\n",
    "        xok=0\n",
    "elif xinp == 2:\n",
    "    #исходим из американского формата дат\n",
    "    try:\n",
    "        xdate = datetime.strptime(xdatestr, '%A, %m.%d.%y')\n",
    "    except:\n",
    "        xok=0\n",
    "elif xinp == 3:\n",
    "    try:\n",
    "        xdate = datetime.strptime(xdatestr, '%A, %d %B %Y')\n",
    "    except:\n",
    "        xok=0\n",
    "else:\n",
    "    sys.exit('Введите число от 1 до 3')\n",
    "\n",
    "if xok:\n",
    "    print(f'Исходная дата: {xdatestr}')\n",
    "    print(f'YYYY-DD-MM: {xdate.strftime(\"%Y-%m-%d\")}')\n",
    "else:\n",
    "    print(f'Не удалось обработать исходную дату: {xdatestr}')\n"
   ]
  },
  {
   "cell_type": "markdown",
   "metadata": {},
   "source": [
    "# Задание 2\n",
    "Дан поток дат в формате YYYY-MM-DD, в которых встречаются некорректные значения:\n",
    "stream = ['2018-04-02', '2018-02-29', '2018-19-02']\n",
    "\n",
    "Напишите функцию, которая проверяет эти даты на корректность. Т. е. для каждой даты возвращает True (дата корректна) или False (некорректная дата)."
   ]
  },
  {
   "cell_type": "code",
   "execution_count": 58,
   "metadata": {},
   "outputs": [
    {
     "name": "stdout",
     "output_type": "stream",
     "text": [
      "2018-04-02: True\n",
      "2018-02-29: False\n",
      "2018-19-02: False\n"
     ]
    }
   ],
   "source": [
    "from datetime import datetime\n",
    "stream = ['2018-04-02', '2018-02-29', '2018-19-02']\n",
    "for xel in stream:\n",
    "    try:\n",
    "        datetime.strptime(xel, '%Y-%m-%d')\n",
    "        print(f'{xel}: True')\n",
    "    except:\n",
    "        print(f'{xel}: False')\n",
    " "
   ]
  },
  {
   "cell_type": "markdown",
   "metadata": {},
   "source": [
    "# Задание 3\n",
    "Напишите функцию date_range, которая возвращает список дат за период от start_date до end_date. Даты должны вводиться в формате YYYY-MM-DD. В случае неверного формата или при start_date > end_date должен возвращаться пустой список.\n"
   ]
  },
  {
   "cell_type": "code",
   "execution_count": 71,
   "metadata": {},
   "outputs": [
    {
     "data": {
      "text/plain": [
       "['2020-01-01',\n",
       " '2020-01-02',\n",
       " '2020-01-03',\n",
       " '2020-01-04',\n",
       " '2020-01-05',\n",
       " '2020-01-06',\n",
       " '2020-01-07',\n",
       " '2020-01-08',\n",
       " '2020-01-09',\n",
       " '2020-01-10']"
      ]
     },
     "execution_count": 71,
     "metadata": {},
     "output_type": "execute_result"
    }
   ],
   "source": [
    "from datetime import datetime, timedelta\n",
    "\n",
    "def date_range(start_date, end_date):\n",
    "    \"\"\"\n",
    "    Возвращает список дат (текстовый форма) за период от start_date до end_date\n",
    "    start_date, end_date - формат YYYY-MM-DD\n",
    "    В случае неверного формата или при start_date > end_date возвращается пустой список\n",
    "    \n",
    "    \"\"\"\n",
    "    try:\n",
    "        xs_date = datetime.strptime(start_date, '%Y-%m-%d')\n",
    "        xe_date = datetime.strptime(end_date, '%Y-%m-%d')\n",
    "    except:\n",
    "        return []\n",
    "\n",
    "    if not start_date <= end_date: return []\n",
    "    \n",
    "    xc_date = xs_date\n",
    "    x_arr= []\n",
    "   \n",
    "    while xc_date.strftime('%Y-%m-%d') <= end_date:\n",
    "        x_arr.append(xc_date.strftime('%Y-%m-%d'))\n",
    "        xc_date += timedelta(days=1)\n",
    "        \n",
    "    return x_arr\n",
    "\n",
    "date_range('2020-01-01', '2020-01-10')"
   ]
  },
  {
   "cell_type": "markdown",
   "metadata": {},
   "source": [
    "# Задание 4 (бонусное)\n",
    "Ваш коллега прислал код функции:\n",
    "\n",
    "При однократном вызове этой функции все работает корректно:\n",
    "delete_and_return_last_user(1)\n",
    "'A101'\n",
    "\n",
    "Однако, при повторном вызове получается ошибка IndexError: list index out of range.\n",
    "\n",
    "Задание:\n",
    "1. Что значит ошибка list index out of range?\n",
    "2. Почему при первом запуске функция работает корректно, а при втором - нет?\n"
   ]
  },
  {
   "cell_type": "code",
   "execution_count": 94,
   "metadata": {},
   "outputs": [],
   "source": [
    "DEFAULT_USER_COUNT = 3\n",
    "def delete_and_return_last_user(region, default_list=['A100', 'A101', 'A102']):\n",
    "    \"\"\"\n",
    "    Удаляет из списка default_list последнего пользователя \n",
    "    и возвращает ID нового последнего пользователя.\n",
    "    \"\"\"\n",
    "    element_to_delete = default_list[-1]\n",
    "    default_list.remove(element_to_delete)\n",
    "    print(default_list)\n",
    "    \n",
    "    return default_list[DEFAULT_USER_COUNT-2]"
   ]
  },
  {
   "cell_type": "code",
   "execution_count": 95,
   "metadata": {},
   "outputs": [
    {
     "name": "stdout",
     "output_type": "stream",
     "text": [
      "['A100', 'A101']\n",
      "['A100']\n"
     ]
    },
    {
     "ename": "IndexError",
     "evalue": "list index out of range",
     "output_type": "error",
     "traceback": [
      "\u001b[1;31m---------------------------------------------------------------------------\u001b[0m",
      "\u001b[1;31mIndexError\u001b[0m                                Traceback (most recent call last)",
      "\u001b[1;32m<ipython-input-95-6e49c7209e96>\u001b[0m in \u001b[0;36m<module>\u001b[1;34m\u001b[0m\n\u001b[0;32m      1\u001b[0m \u001b[0mdelete_and_return_last_user\u001b[0m\u001b[1;33m(\u001b[0m\u001b[1;36m1\u001b[0m\u001b[1;33m)\u001b[0m\u001b[1;33m\u001b[0m\u001b[1;33m\u001b[0m\u001b[0m\n\u001b[1;32m----> 2\u001b[1;33m \u001b[0mdelete_and_return_last_user\u001b[0m\u001b[1;33m(\u001b[0m\u001b[1;36m1\u001b[0m\u001b[1;33m)\u001b[0m\u001b[1;33m\u001b[0m\u001b[1;33m\u001b[0m\u001b[0m\n\u001b[0m",
      "\u001b[1;32m<ipython-input-94-39b98232e556>\u001b[0m in \u001b[0;36mdelete_and_return_last_user\u001b[1;34m(region, default_list)\u001b[0m\n\u001b[0;32m      9\u001b[0m     \u001b[0mprint\u001b[0m\u001b[1;33m(\u001b[0m\u001b[0mdefault_list\u001b[0m\u001b[1;33m)\u001b[0m\u001b[1;33m\u001b[0m\u001b[1;33m\u001b[0m\u001b[0m\n\u001b[0;32m     10\u001b[0m \u001b[1;33m\u001b[0m\u001b[0m\n\u001b[1;32m---> 11\u001b[1;33m     \u001b[1;32mreturn\u001b[0m \u001b[0mdefault_list\u001b[0m\u001b[1;33m[\u001b[0m\u001b[0mDEFAULT_USER_COUNT\u001b[0m\u001b[1;33m-\u001b[0m\u001b[1;36m2\u001b[0m\u001b[1;33m]\u001b[0m\u001b[1;33m\u001b[0m\u001b[1;33m\u001b[0m\u001b[0m\n\u001b[0m",
      "\u001b[1;31mIndexError\u001b[0m: list index out of range"
     ]
    }
   ],
   "source": [
    "delete_and_return_last_user(1)\n",
    "delete_and_return_last_user(1)"
   ]
  },
  {
   "cell_type": "markdown",
   "metadata": {},
   "source": [
    "Интересное задание, на самом деле.\n",
    " - Что значит ошибка list index out of range?\n",
    " Это значит, что мы пытаемся обратиться к элементу списка (по номеру), которого нет.\n",
    " - Почему при первом запуске функция работает корректно, а при втором - нет?\n",
    " А вот тут уже сложнее и, прям скажем, неожиданно и неинтуитивно. Выходит, что при инициализации функции создается список default_list который хранится в памяти (и который меняется внутри функции в ходе её выполнения). При последующем обращении к функции, список не пересоздается, а остается, соответственно каждая итерация уменьшает список, что и вызывает ошибку (мы пытаемся выбрать элемент по константной DEFAULT_USER_COUNT).\n",
    " \n",
    " Вариантов исправить функцию несколько, например (не меняя в целом странной структуры):"
   ]
  },
  {
   "cell_type": "code",
   "execution_count": 107,
   "metadata": {},
   "outputs": [
    {
     "name": "stdout",
     "output_type": "stream",
     "text": [
      "A101\n",
      "A106\n"
     ]
    }
   ],
   "source": [
    "def delete_and_return_last_user(default_list=None):\n",
    "    if default_list is not None:\n",
    "        del default_list[-1]\n",
    "        return default_list[-1]\n",
    "    else:\n",
    "        #непонятно зачем делать массив дефолтный, если возвращаем одно значение\n",
    "        return 'A101'\n",
    "\n",
    "print(delete_and_return_last_user())\n",
    "print(delete_and_return_last_user(['A105', 'A106', 'A107']))"
   ]
  },
  {
   "cell_type": "code",
   "execution_count": null,
   "metadata": {},
   "outputs": [],
   "source": []
  }
 ],
 "metadata": {
  "kernelspec": {
   "display_name": "Python 3",
   "language": "python",
   "name": "python3"
  },
  "language_info": {
   "codemirror_mode": {
    "name": "ipython",
    "version": 3
   },
   "file_extension": ".py",
   "mimetype": "text/x-python",
   "name": "python",
   "nbconvert_exporter": "python",
   "pygments_lexer": "ipython3",
   "version": "3.7.6"
  }
 },
 "nbformat": 4,
 "nbformat_minor": 2
}
