{
 "cells": [
  {
   "cell_type": "code",
   "execution_count": 3,
   "metadata": {},
   "outputs": [],
   "source": [
    "import pandas as pd"
   ]
  },
  {
   "cell_type": "markdown",
   "metadata": {},
   "source": [
    "# Задание 1#\n",
    "Напишите функцию, которая классифицирует фильмы из материалов занятия по следующим правилам:\n",
    "  - оценка 2 и меньше - низкий рейтинг\n",
    "  - оценка 4 и меньше - средний рейтинг\n",
    "  - оценка 4.5 и 5 - высокий рейтинг\n",
    "\n",
    "Результат классификации запишите в столбец class\n"
   ]
  },
  {
   "cell_type": "code",
   "execution_count": 1,
   "metadata": {},
   "outputs": [],
   "source": [
    "# в задании не указано, что писать в диапазон 4-4.5, соотв. расширил на него 'высокий рейтинг'\n",
    "def rt(inp):\n",
    "    return 'низкий рейтинг' if inp <= 2 else 'средний рейтинг' if inp <= 4 else 'высокий рейтинг'"
   ]
  },
  {
   "cell_type": "code",
   "execution_count": 12,
   "metadata": {},
   "outputs": [
    {
     "data": {
      "text/html": [
       "<div>\n",
       "<style scoped>\n",
       "    .dataframe tbody tr th:only-of-type {\n",
       "        vertical-align: middle;\n",
       "    }\n",
       "\n",
       "    .dataframe tbody tr th {\n",
       "        vertical-align: top;\n",
       "    }\n",
       "\n",
       "    .dataframe thead th {\n",
       "        text-align: right;\n",
       "    }\n",
       "</style>\n",
       "<table border=\"1\" class=\"dataframe\">\n",
       "  <thead>\n",
       "    <tr style=\"text-align: right;\">\n",
       "      <th></th>\n",
       "      <th>userId</th>\n",
       "      <th>movieId</th>\n",
       "      <th>rating</th>\n",
       "      <th>timestamp</th>\n",
       "      <th>class</th>\n",
       "    </tr>\n",
       "  </thead>\n",
       "  <tbody>\n",
       "    <tr>\n",
       "      <th>99994</th>\n",
       "      <td>671</td>\n",
       "      <td>5952</td>\n",
       "      <td>5.0</td>\n",
       "      <td>1063502716</td>\n",
       "      <td>высокий рейтинг</td>\n",
       "    </tr>\n",
       "    <tr>\n",
       "      <th>99995</th>\n",
       "      <td>671</td>\n",
       "      <td>5989</td>\n",
       "      <td>4.0</td>\n",
       "      <td>1064890625</td>\n",
       "      <td>средний рейтинг</td>\n",
       "    </tr>\n",
       "    <tr>\n",
       "      <th>99996</th>\n",
       "      <td>671</td>\n",
       "      <td>5991</td>\n",
       "      <td>4.5</td>\n",
       "      <td>1064245387</td>\n",
       "      <td>высокий рейтинг</td>\n",
       "    </tr>\n",
       "    <tr>\n",
       "      <th>99997</th>\n",
       "      <td>671</td>\n",
       "      <td>5995</td>\n",
       "      <td>4.0</td>\n",
       "      <td>1066793014</td>\n",
       "      <td>средний рейтинг</td>\n",
       "    </tr>\n",
       "    <tr>\n",
       "      <th>99998</th>\n",
       "      <td>671</td>\n",
       "      <td>6212</td>\n",
       "      <td>2.5</td>\n",
       "      <td>1065149436</td>\n",
       "      <td>средний рейтинг</td>\n",
       "    </tr>\n",
       "    <tr>\n",
       "      <th>99999</th>\n",
       "      <td>671</td>\n",
       "      <td>6268</td>\n",
       "      <td>2.5</td>\n",
       "      <td>1065579370</td>\n",
       "      <td>средний рейтинг</td>\n",
       "    </tr>\n",
       "    <tr>\n",
       "      <th>100000</th>\n",
       "      <td>671</td>\n",
       "      <td>6269</td>\n",
       "      <td>4.0</td>\n",
       "      <td>1065149201</td>\n",
       "      <td>средний рейтинг</td>\n",
       "    </tr>\n",
       "    <tr>\n",
       "      <th>100001</th>\n",
       "      <td>671</td>\n",
       "      <td>6365</td>\n",
       "      <td>4.0</td>\n",
       "      <td>1070940363</td>\n",
       "      <td>средний рейтинг</td>\n",
       "    </tr>\n",
       "    <tr>\n",
       "      <th>100002</th>\n",
       "      <td>671</td>\n",
       "      <td>6385</td>\n",
       "      <td>2.5</td>\n",
       "      <td>1070979663</td>\n",
       "      <td>средний рейтинг</td>\n",
       "    </tr>\n",
       "    <tr>\n",
       "      <th>100003</th>\n",
       "      <td>671</td>\n",
       "      <td>6565</td>\n",
       "      <td>3.5</td>\n",
       "      <td>1074784724</td>\n",
       "      <td>средний рейтинг</td>\n",
       "    </tr>\n",
       "  </tbody>\n",
       "</table>\n",
       "</div>"
      ],
      "text/plain": [
       "        userId  movieId  rating   timestamp            class\n",
       "99994      671     5952     5.0  1063502716  высокий рейтинг\n",
       "99995      671     5989     4.0  1064890625  средний рейтинг\n",
       "99996      671     5991     4.5  1064245387  высокий рейтинг\n",
       "99997      671     5995     4.0  1066793014  средний рейтинг\n",
       "99998      671     6212     2.5  1065149436  средний рейтинг\n",
       "99999      671     6268     2.5  1065579370  средний рейтинг\n",
       "100000     671     6269     4.0  1065149201  средний рейтинг\n",
       "100001     671     6365     4.0  1070940363  средний рейтинг\n",
       "100002     671     6385     2.5  1070979663  средний рейтинг\n",
       "100003     671     6565     3.5  1074784724  средний рейтинг"
      ]
     },
     "execution_count": 12,
     "metadata": {},
     "output_type": "execute_result"
    }
   ],
   "source": [
    "rt_data = pd.read_csv('ratings.csv')\n",
    "rt_data['class'] = rt_data['rating'].apply(rt)\n",
    "rt_data.tail(10)"
   ]
  },
  {
   "cell_type": "markdown",
   "metadata": {},
   "source": [
    "# Задание 2 #\n",
    "Используем файл keywords.csv.\n",
    "\n",
    "Необходимо написать гео-классификатор, который каждой строке сможет выставить географическую принадлежность определенному региону. Т. е. если поисковый запрос содержит название города региона, то в столбце 'region' пишется название этого региона. Если поисковый запрос не содержит названия города, то ставим 'undefined'.\n",
    "\n",
    "Правила распределения по регионам Центр, Северо-Запад и Дальний Восток:\n",
    "\n",
    "geo_data = {\n",
    "\n",
    "    'Центр': ['москва', 'тула', 'ярославль'],\n",
    "\n",
    "    'Северо-Запад': ['петербург', 'псков', 'мурманск'],\n",
    "\n",
    "    'Дальний Восток': ['владивосток', 'сахалин', 'хабаровск']\n",
    "\n",
    "}\n",
    "\n",
    "Результат классификации запишите в отдельный столбец region.\n"
   ]
  },
  {
   "cell_type": "code",
   "execution_count": 19,
   "metadata": {},
   "outputs": [
    {
     "name": "stdout",
     "output_type": "stream",
     "text": [
      "{'Центр': ['москва', 'тула', 'ярославль'], 'Северо-Запад': ['петербург', 'псков', 'мурманск'], 'Дальний Восток': ['владивосток', 'сахалин', 'хабаровск']}\n",
      "\n",
      "         keyword     shows\n",
      "0             вк  64292779\n",
      "1  одноклассники  63810309\n",
      "2          порно  41747114\n",
      "3           ютуб  39995567\n",
      "4      вконтакте  21014195\n"
     ]
    }
   ],
   "source": [
    "# load\n",
    "geo_data = {\n",
    "\n",
    "'Центр': ['москва', 'тула', 'ярославль'],\n",
    "\n",
    "'Северо-Запад': ['петербург', 'псков', 'мурманск'],\n",
    "\n",
    "'Дальний Восток': ['владивосток', 'сахалин', 'хабаровск']\n",
    "}\n",
    "\n",
    "kw_data = pd.read_csv('keywords.csv')\n",
    "print(f'{geo_data}\\n\\n{kw_data.head()}')"
   ]
  },
  {
   "cell_type": "code",
   "execution_count": 50,
   "metadata": {},
   "outputs": [
    {
     "name": "stdout",
     "output_type": "stream",
     "text": [
      "         keyword     shows     region\n",
      "0             вк  64292779  undefined\n",
      "1  одноклассники  63810309  undefined\n",
      "2          порно  41747114  undefined\n",
      "3           ютуб  39995567  undefined\n",
      "4      вконтакте  21014195  undefined\n"
     ]
    },
    {
     "data": {
      "text/plain": [
       "undefined             99253\n",
       "Центр                   385\n",
       "Северо-Запад            266\n",
       "Дальний Восток           94\n",
       "Северо-Запад,Центр        2\n",
       "Name: region, dtype: int64"
      ]
     },
     "execution_count": 50,
     "metadata": {},
     "output_type": "execute_result"
    }
   ],
   "source": [
    "def geo_check(kw):\n",
    "# исхожу из того, что в запросе может быть указано несколько городов и без пробелов (т.е. не через split)\n",
    "    lst=[]\n",
    "    for k, v in geo_data.items():\n",
    "        for el in v:\n",
    "             if el in kw.lower():\n",
    "                lst.append(k)\n",
    "    lst=','.join(sorted(list(set(lst))))\n",
    "    return lst if lst else 'undefined'\n",
    "\n",
    "# geo_check('testСахалинПетербург')\n",
    "\n",
    "kw_data['region'] = kw_data['keyword'].apply(geo_check)\n",
    "print(kw_data.head())\n",
    "kw_data['region'].value_counts()\n"
   ]
  },
  {
   "cell_type": "markdown",
   "metadata": {},
   "source": [
    "# Задание 3 (бонусное)#\n",
    "Есть мнение, что \"раньше снимали настоящее кино, не то что сейчас\". Ваша задача проверить это утверждение, используя файлы с рейтингами фильмов из прошлого домашнего занятия (файл ratings.csv из базы https://grouplens.org/datasets/movielens). Т. е. проверить верно ли, что с ростом года выпуска фильма его средний рейтинг становится ниже.\n",
    "\n",
    "При этом мы не будем затрагивать субьективные факторы выставления этих рейтингов, а пройдемся по следующему алгоритму:\n",
    "\n",
    "1. В переменную years запишите список из всех годов с 1950 по 2010.\n",
    "\n",
    "2. Напишите функцию production_year, которая каждой строке из названия фильма выставляет год выпуска. Не все названия фильмов содержат год выпуска в одинаковом формате, поэтому используйте следующий алгоритм:\n",
    "  - для каждой строки пройдите по всем годам списка years\n",
    "  - если номер года присутствует в названии фильма, то функция возвращает этот год как год выпуска\n",
    "  - если ни один из номеров года списка years не встретился в названии фильма, то возвращается 1900 год\n",
    "\n",
    "3. Запишите год выпуска фильма по алгоритму пункта 2 в новый столбец 'year'\n",
    "\n",
    "4. Посчитайте средний рейтинг всех фильмов для каждого значения столбца 'year' и отсортируйте результат по убыванию рейтинга"
   ]
  },
  {
   "cell_type": "code",
   "execution_count": 97,
   "metadata": {},
   "outputs": [
    {
     "data": {
      "text/plain": [
       "year\n",
       "1921    4.416667\n",
       "1902    4.333333\n",
       "1928    4.261905\n",
       "1917    4.250000\n",
       "1918    4.250000\n",
       "          ...   \n",
       "2013    3.356973\n",
       "2000    3.355945\n",
       "2016    3.217742\n",
       "1915    3.000000\n",
       "1919    3.000000\n",
       "Name: rating, Length: 104, dtype: float64"
      ]
     },
     "execution_count": 97,
     "metadata": {},
     "output_type": "execute_result"
    }
   ],
   "source": [
    "# а можно я чуть оптимизирую задание? судя по файлу, общий паттерн года выпуска - (xxxx)\n",
    "# плюс за все года. так интереснее. ограничить 1950-2010 не составит труда в production_year\n",
    "import re\n",
    "mv_data = pd.read_csv('movies.csv')\n",
    "rt_data = pd.read_csv('ratings.csv')\n",
    "\n",
    "def production_year(mv_name):\n",
    "    pattern = r'(?:\\()(\\d{4})(?:\\))'\n",
    "    mvy = re.search(pattern, mv_name)\n",
    "    return int(mvy[1]) if mvy else 1900\n",
    "\n",
    "mv_data['year'] = mv_data['title'].apply(production_year)\n",
    "mv_data_l = mv_data.set_index('movieId').T.to_dict('list')\n",
    "\n",
    "# предполагаю, что с join было бы удобнее\n",
    "def production_year_rt(mv_id):\n",
    "    return mv_data_l[mv_id][2] if mv_id in mv_data_l.keys() else 1900\n",
    "\n",
    "rt_data['year'] = rt_data['movieId'].apply(production_year_rt)\n",
    "rt_data.groupby('year').mean().sort_values('rating', ascending=False)['rating']"
   ]
  },
  {
   "cell_type": "code",
   "execution_count": null,
   "metadata": {},
   "outputs": [],
   "source": []
  }
 ],
 "metadata": {
  "kernelspec": {
   "display_name": "Python 3",
   "language": "python",
   "name": "python3"
  },
  "language_info": {
   "codemirror_mode": {
    "name": "ipython",
    "version": 3
   },
   "file_extension": ".py",
   "mimetype": "text/x-python",
   "name": "python",
   "nbconvert_exporter": "python",
   "pygments_lexer": "ipython3",
   "version": "3.7.6"
  }
 },
 "nbformat": 4,
 "nbformat_minor": 4
}
